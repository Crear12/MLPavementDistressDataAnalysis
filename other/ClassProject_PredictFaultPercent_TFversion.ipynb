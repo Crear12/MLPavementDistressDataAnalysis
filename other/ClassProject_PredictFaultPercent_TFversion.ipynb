{
 "cells": [
  {
   "cell_type": "code",
   "execution_count": 2,
   "metadata": {},
   "outputs": [],
   "source": [
    "import numpy as np\n",
    "import matplotlib.pyplot as plt\n",
    "import pandas as pd\n",
    "from sklearn.preprocessing import LabelEncoder, OneHotEncoder, StandardScaler\n",
    "from sklearn.tree import DecisionTreeRegressor\n",
    "from sklearn.model_selection import cross_val_score\n",
    "from sklearn.ensemble import RandomForestRegressor\n",
    "from sklearn.linear_model import SGDClassifier, LinearRegression\n",
    "import time\n",
    "from sklearn.metrics import mean_squared_error\n",
    "from sklearn.model_selection import train_test_split\n",
    "import tensorflow as tf\n",
    "%matplotlib inline\n",
    "\n",
    "def plot_learning_curves(model, X, y):\n",
    "    X_train, X_val, y_train, y_val = train_test_split(X, y, test_size=0.2) \n",
    "    train_errors, val_errors = [], []\n",
    "    for m in range(1, len(X_train),10000):\n",
    "        model.fit(X_train[:m], y_train[:m])\n",
    "        y_train_predict = model.predict(X_train[:m])\n",
    "        y_val_predict = model.predict(X_val) \n",
    "        train_errors.append(mean_squared_error(y_train_predict, y_train[:m])) \n",
    "        val_errors.append(mean_squared_error(y_val_predict, y_val))\n",
    "    plt.plot(np.sqrt(train_errors), \"r-+\", linewidth=2, label=\"train\") \n",
    "    plt.plot(np.sqrt(val_errors), \"b-\", linewidth=3, label=\"val\")"
   ]
  },
  {
   "cell_type": "code",
   "execution_count": 3,
   "metadata": {},
   "outputs": [],
   "source": [
    "# Load Data\n",
    "FaultSect = pd.read_csv('data/Mon_Dis_JPCC_FAULT_SECT.csv')\n",
    "CrackIdx = pd.read_csv('data/Mon_Dis_JPCC_CRACK_INDEX.csv')\n",
    "Rev = pd.read_csv('data/Mon_Dis_JPCC_REV.csv')\n",
    "TST = pd.read_csv('data/TST_L05B.csv')"
   ]
  },
  {
   "cell_type": "code",
   "execution_count": 4,
   "metadata": {
    "scrolled": true
   },
   "outputs": [],
   "source": [
    "FaultSect = FaultSect[['STATE_CODE','SHRP_ID','CRACK_OR_JOINT_EXP','AVG_EDGE_FAULT','AVG_WHEELPATH_FAULT']].dropna()\n",
    "FaultSect['CRACK_OR_JOINT_EXP'] = LabelEncoder().fit_transform(FaultSect['CRACK_OR_JOINT_EXP'])\n",
    "# FaultSect"
   ]
  },
  {
   "cell_type": "code",
   "execution_count": 5,
   "metadata": {},
   "outputs": [],
   "source": [
    "CrackIdx = CrackIdx[['STATE_CODE','SHRP_ID','SURVEY_DATE','HPMS16_CRACKING_PERCENT_JPCC']].dropna()\n",
    "# CrackIdx"
   ]
  },
  {
   "cell_type": "code",
   "execution_count": 6,
   "metadata": {
    "scrolled": true
   },
   "outputs": [],
   "source": [
    "TST = TST[['SHRP_ID','MATL_CODE']]"
   ]
  },
  {
   "cell_type": "code",
   "execution_count": 7,
   "metadata": {},
   "outputs": [],
   "source": [
    "Rev = Rev.drop(['STATE_CODE_EXP','SURVEY_DATE','JT_SEALED','JT_SEALED_EXP','OTHER'], axis = 1)"
   ]
  },
  {
   "cell_type": "code",
   "execution_count": 8,
   "metadata": {},
   "outputs": [],
   "source": [
    "Prepared_data = pd.merge(FaultSect,Rev, on = 'SHRP_ID')"
   ]
  },
  {
   "cell_type": "code",
   "execution_count": 9,
   "metadata": {},
   "outputs": [],
   "source": [
    "Prepared_data = Prepared_data.dropna()"
   ]
  },
  {
   "cell_type": "code",
   "execution_count": 10,
   "metadata": {},
   "outputs": [],
   "source": [
    "Prepared_data = pd.merge(Prepared_data,TST, on = 'SHRP_ID').dropna()"
   ]
  },
  {
   "cell_type": "code",
   "execution_count": 11,
   "metadata": {
    "scrolled": true
   },
   "outputs": [
    {
     "name": "stderr",
     "output_type": "stream",
     "text": [
      "/Users/Crear/opt/anaconda3/lib/python3.7/site-packages/sklearn/preprocessing/_encoders.py:415: FutureWarning: The handling of integer data will change in version 0.22. Currently, the categories are determined based on the range [0, max(values)], while in the future they will be determined based on the unique values.\n",
      "If you want the future behaviour and silence this warning, you can specify \"categories='auto'\".\n",
      "In case you used a LabelEncoder before this OneHotEncoder to convert the categories to integers, then you can now use the OneHotEncoder directly.\n",
      "  warnings.warn(msg, FutureWarning)\n"
     ]
    }
   ],
   "source": [
    "Prepared_data['MATL_CODE'] = OneHotEncoder().fit_transform(Prepared_data['MATL_CODE'].values.reshape(-1,1)).toarray()\n",
    "# Prepared_data = Prepared_data.drop(columns='MATL_CODE')\n",
    "Prepared_data = Prepared_data.drop(['SHRP_ID'], axis = 1)\n",
    "# Prepared_data['CRACK_OR_JOINT_EXP'] = LabelEncoder().fit_transform(Prepared_data['CRACK_OR_JOINT_EXP'])"
   ]
  },
  {
   "cell_type": "code",
   "execution_count": 12,
   "metadata": {},
   "outputs": [],
   "source": [
    "Target_Labels = Prepared_data[['AVG_EDGE_FAULT','AVG_WHEELPATH_FAULT']]\n",
    "Prepared_data = Prepared_data.drop(['AVG_EDGE_FAULT','AVG_WHEELPATH_FAULT'], axis = 1)"
   ]
  },
  {
   "cell_type": "code",
   "execution_count": null,
   "metadata": {},
   "outputs": [],
   "source": []
  },
  {
   "cell_type": "code",
   "execution_count": null,
   "metadata": {
    "scrolled": false
   },
   "outputs": [],
   "source": [
    "st = time.time()\n",
    "tree_reg = DecisionTreeRegressor()\n",
    "tree_scores = cross_val_score(tree_reg, Prepared_data, Target_Labels,scoring=\"neg_mean_squared_error\", cv=10) \n",
    "rmse_scores = np.sqrt(-tree_scores)\n",
    "print('Time used:',time.time()-st)\n",
    "print('rmse scores:',rmse_scores)"
   ]
  },
  {
   "cell_type": "code",
   "execution_count": null,
   "metadata": {
    "scrolled": false
   },
   "outputs": [],
   "source": [
    "plot_learning_curves(tree_reg, Prepared_data, Target_Labels)"
   ]
  },
  {
   "cell_type": "code",
   "execution_count": null,
   "metadata": {},
   "outputs": [],
   "source": [
    "st = time.time()\n",
    "forest_reg = RandomForestRegressor()\n",
    "forest_scores = cross_val_score(forest_reg, Prepared_data, Target_Labels,scoring=\"neg_mean_squared_error\", cv=10) \n",
    "rmse_scores = np.sqrt(-forest_scores)\n",
    "print('Time used:',time.time()-st)\n",
    "print('rmse scores:',rmse_scores)\n",
    "plot_learning_curves(forest_reg, Prepared_data, Target_Labels)"
   ]
  },
  {
   "cell_type": "code",
   "execution_count": null,
   "metadata": {
    "scrolled": true
   },
   "outputs": [],
   "source": [
    "st = time.time()\n",
    "lin_reg_model = LinearRegression()\n",
    "lin_scores = cross_val_score(lin_reg_model, Prepared_data, Target_Labels,scoring=\"neg_mean_squared_error\", cv=10) \n",
    "rmse_scores = np.sqrt(-lin_scores)\n",
    "print('Time used:',time.time()-st)\n",
    "print('rmse scores:',rmse_scores)\n",
    "plot_learning_curves(lin_reg_model, Prepared_data, Target_Labels)"
   ]
  },
  {
   "cell_type": "code",
   "execution_count": null,
   "metadata": {},
   "outputs": [],
   "source": [
    "st = time.time()\n",
    "from sklearn.svm import SVC \n",
    "poly_kernel_svm_clf = Pipeline((\n",
    "        (\"scaler\", StandardScaler()),\n",
    "        (\"svm_clf\", SVC(kernel=\"poly\", degree=3, coef0=1, C=5))\n",
    "    ))\n",
    "poly_svm_scores = cross_val_score(poly_kernel_svm_clf, Prepared_data, Target_Labels,scoring=\"neg_mean_squared_error\", cv=10) \n",
    "rmse_scores = np.sqrt(-poly_svm_scores)\n",
    "print('Time used:',time.time()-st)\n",
    "print('rmse scores:',rmse_scores)\n",
    "plot_learning_curves(poly_kernel_svm_clf, Prepared_data, Target_Labels)"
   ]
  }
 ],
 "metadata": {
  "kernelspec": {
   "display_name": "Python 3",
   "language": "python",
   "name": "python3"
  },
  "language_info": {
   "codemirror_mode": {
    "name": "ipython",
    "version": 3
   },
   "file_extension": ".py",
   "mimetype": "text/x-python",
   "name": "python",
   "nbconvert_exporter": "python",
   "pygments_lexer": "ipython3",
   "version": "3.7.5"
  }
 },
 "nbformat": 4,
 "nbformat_minor": 2
}
